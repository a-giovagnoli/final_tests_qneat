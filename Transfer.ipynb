{
 "cells": [
  {
   "cell_type": "code",
   "execution_count": 1,
   "metadata": {},
   "outputs": [],
   "source": [
    "import pennylane as qml\n",
    "import numpy as np\n",
    "import math\n",
    "import csv"
   ]
  },
  {
   "cell_type": "code",
   "execution_count": 2,
   "metadata": {},
   "outputs": [],
   "source": [
    "#random\n",
    "graph = [(0,1), (0,6), (0,7), (1,2), (1,6), (2,4), (2,7), (3,7), (3,6), (4,5), (4,6), (5,1), (5,6), (5,7), (6,7)]\n",
    "#ladder\n",
    "#graph = [(0,1), (0,7), (1,2), (2,3), (2,7), (3,4), (3,6), (4,5), (5,6), (6,7)]\n",
    "#barbell\n",
    "#graph = [(0,1), (0,2), (0,3), (1,2), (1,3), (2,4), (2,3), (4,5), (4,6), (4,7), (5,6), (5,7), (6,7)]\n",
    "#caveman\n",
    "#graph = [(0,1), (0,2), (1,2), (1,3), (1,4), (2,3), (3,5), (4,5), (4,6), (5,6), (5,7), (6,7)]\n",
    "nodes = 8\n"
   ]
  },
  {
   "cell_type": "code",
   "execution_count": 3,
   "metadata": {},
   "outputs": [],
   "source": [
    "@qml.qnode(qml.device('default.qubit', wires=nodes, shots=1000))\n",
    "\n",
    "def circuit(graph, nodes, inputs=None):\n",
    "   for i in range(nodes):\n",
    "      qml.Hadamard(wires=i)\n",
    "\n",
    "\n",
    "   if inputs is not None:\n",
    "          edge_1 = inputs[0]\n",
    "          edge_2 = inputs[1]\n",
    "\n",
    "   for edge in graph:\n",
    "            wire1 = edge[0]\n",
    "            wire2 = edge[1]\n",
    "            qml.CNOT(wires = [wire1, wire2])\n",
    "            qml.RZ(np.pi/2, wires=wire2 )            \n",
    "            qml.CNOT(wires = [wire1, wire2])\n",
    "\n",
    "   for i in range(nodes):\n",
    "        qml.CNOT(wires=[i, (i+1)%8])\n",
    "\n",
    "   qml.Rot(2.01, -0.18, 2.02, wires=0)\n",
    "   qml.Rot(-0.43, 2.88, -1.76, wires=1)\n",
    "   qml.Rot(2.39, -3.03, -2.23, wires=2)\n",
    "   qml.Rot(1.86, -0.62, -0.23, wires=3)\n",
    "   qml.Rot(1.03, -2.95, 0.75, wires=4)\n",
    "   qml.Rot(-0.69, -2.76, 3.01, wires=5)\n",
    "   qml.Rot(-1.41, -3.12, -2.37, wires=6)\n",
    "   qml.Rot(1.62, 1.89, 0.77, wires=7)\n",
    "\n",
    "   for i in range(nodes):\n",
    "        qml.CNOT(wires=[i, (i+1)%8])\n",
    "\n",
    "   qml.Rot(-1.93, 0.83, 1.78, wires=0)\n",
    "   qml.Rot(-1.28, -0.35, -1.98, wires=1)\n",
    "   qml.Rot(1.52, -2.71, -2.24, wires=2)\n",
    "   qml.Rot(1.08, -3.04, -1.40, wires=3)\n",
    "   qml.Rot(-1.26, 0.48, 1.76, wires=4)\n",
    "   qml.Rot(-1.00, -1.84, 0.15, wires=5)\n",
    "   qml.Rot(-0.85, 0.93, 0.79, wires=6)\n",
    "   qml.Rot(-2.41, 1.55, 1.62, wires=7)\n",
    "\n",
    "   qml.CNOT(wires=[0,1])\n",
    "   qml.CNOT(wires=[3,4])\n",
    "   qml.CNOT(wires=[5,6])\n",
    "   qml.CNOT(wires=[7,0])\n",
    "\n",
    "   qml.CNOT(wires=[0,1])\n",
    "   qml.Rot(0.38, 1.70, 0.98, wires=2)\n",
    "   qml.CNOT(wires=[3,4])\n",
    "   qml.Rot(1.55, -0.97, 1.10, wires=5)\n",
    "   qml.Rot(2.68, 1.71, 1.72, wires=7)\n",
    "\n",
    "   qml.CNOT(wires=[5,6])\n",
    "   qml.CNOT(wires=[7,0])\n",
    "\n",
    "   qml.CNOT(wires=[0,1])\n",
    "   qml.CNOT(wires=[2,3])\n",
    "   qml.Rot(-2.50, -0.44, 2.17, wires=4)\n",
    "   qml.Rot(2.10, -1.03, -1.95, wires=5)\n",
    "   qml.Rot(-2.45, -0.87, -1.06, wires=6)\n",
    "   qml.Rot(0.44, -0.22, -0.85, wires=7)\n",
    "   qml.Rot(-1.28, 1.36, -0.06, wires=3)\n",
    "   qml.CNOT(wires=[2,3])\n",
    "\n",
    "   if inputs is None:\n",
    "        return qml.sample()\n",
    "\n",
    "   H = qml.PauliZ(edge_1) @ qml.PauliZ(edge_2)\n",
    "\n",
    "   return qml.expval(H)   "
   ]
  },
  {
   "cell_type": "code",
   "execution_count": 4,
   "metadata": {},
   "outputs": [],
   "source": [
    "def hamiltonian(config, graph):\n",
    "    \n",
    "    H = 0\n",
    "    for i, j in graph:\n",
    "        \n",
    "        zi = config[i]\n",
    "        zj = config[j]\n",
    "        H += 0.5 * (1 - zi*zj)\n",
    "    \n",
    "    return H"
   ]
  },
  {
   "cell_type": "code",
   "execution_count": 5,
   "metadata": {},
   "outputs": [],
   "source": [
    "def bitstring_to_int(bit_string_sample):\n",
    "    # transform tensor of measurements into a list\n",
    "    bit_string_sample = bit_string_sample.tolist()\n",
    "    \n",
    "    # join the elements of the list to make a string\n",
    "    bit_string = \"\".join(str(bs) for bs in bit_string_sample)\n",
    "    \n",
    "    return int(bit_string, base=2)"
   ]
  },
  {
   "cell_type": "code",
   "execution_count": 6,
   "metadata": {},
   "outputs": [],
   "source": [
    "def qnode(inputs):\n",
    "    device = qml.device('default.qubit', wires=nodes, shots = 1000)\n",
    "    qnode = qml.QNode(circuit, device, interface='torch')"
   ]
  },
  {
   "cell_type": "code",
   "execution_count": 7,
   "metadata": {},
   "outputs": [],
   "source": [
    "def predict(inputs):\n",
    "    # circuit ausführen\n",
    "    return circuit(graph, nodes, inputs)"
   ]
  },
  {
   "cell_type": "code",
   "execution_count": 8,
   "metadata": {},
   "outputs": [],
   "source": [
    "def run_qvc(graph):\n",
    "    obj = 0\n",
    "    for edge in graph:\n",
    "        h_average = predict(edge)\n",
    "        obj += 0.5 * (1-h_average)\n",
    "    score = obj\n",
    "    return score"
   ]
  },
  {
   "cell_type": "code",
   "execution_count": 9,
   "metadata": {},
   "outputs": [],
   "source": [
    "def test_best_agent(graph):\n",
    "    bit_strings = []\n",
    "    n_samples = 100\n",
    "    \n",
    "    simple_measurements = []\n",
    "    for i in range(0, n_samples):\n",
    "        measurements = predict(None, test=True)\n",
    "        simple_measurements.append(measurements)\n",
    "        bit_strings.append(bitstring_to_int(measurements))\n",
    "        \n",
    "    samples_energies = []\n",
    "    for m in simple_measurements:\n",
    "        m = m.tolist()\n",
    "        m = [int(x) if int(x)==1 else -1 for x in m]\n",
    "        samples_energies.append(hamiltonian(m, graph))\n",
    "       \n",
    "    average_energy = sum(samples_energies)/len(samples_energies)\n",
    "    print('average energy:', average_energy)\n",
    "\n",
    "    counts = np.bincount(np.array(bit_strings))\n",
    "    most_freq_bit_string = np.argmax(counts)\n",
    "    print(\"Most frequently sampled bit string is: {:08b}\".format(most_freq_bit_string))"
   ]
  },
  {
   "cell_type": "code",
   "execution_count": 14,
   "metadata": {},
   "outputs": [],
   "source": [
    "device = qml.device('default.qubit', wires=nodes, shots = 1000)\n",
    "qnode = qml.QNode(circuit, device, interface='torch')\n",
    "#print(qml.draw(circuit)(graph, nodes))\n"
   ]
  }
 ],
 "metadata": {
  "kernelspec": {
   "display_name": "Python 3",
   "language": "python",
   "name": "python3"
  },
  "language_info": {
   "codemirror_mode": {
    "name": "ipython",
    "version": 3
   },
   "file_extension": ".py",
   "mimetype": "text/x-python",
   "name": "python",
   "nbconvert_exporter": "python",
   "pygments_lexer": "ipython3",
   "version": "3.10.4"
  },
  "orig_nbformat": 4
 },
 "nbformat": 4,
 "nbformat_minor": 2
}
