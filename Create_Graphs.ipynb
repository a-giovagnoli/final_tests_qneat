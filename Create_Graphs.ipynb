{
 "cells": [
  {
   "cell_type": "code",
   "execution_count": 64,
   "metadata": {},
   "outputs": [],
   "source": [
    "from networkx.generators.random_graphs import erdos_renyi_graph\n",
    "import csv\n",
    "import numpy as np"
   ]
  },
  {
   "cell_type": "code",
   "execution_count": 65,
   "metadata": {},
   "outputs": [],
   "source": [
    "n = 8\n",
    "p = 0.5\n"
   ]
  },
  {
   "cell_type": "code",
   "execution_count": 66,
   "metadata": {},
   "outputs": [],
   "source": [
    "graph = []\n",
    "\n",
    "for i in range(0, 100):\n",
    "    g = erdos_renyi_graph(n, p)\n",
    "    graph.append(g.edges)\n",
    "\n",
    "with open ('RandomGraphs.csv', 'w', newline='') as file:\n",
    "    writer = csv.writer(file)\n",
    "    for i in range(len(graph)):\n",
    "        writer.writerow([graph[i]])   "
   ]
  },
  {
   "cell_type": "code",
   "execution_count": 94,
   "metadata": {},
   "outputs": [
    {
     "name": "stdout",
     "output_type": "stream",
     "text": [
      "<class 'tuple'>\n"
     ]
    }
   ],
   "source": [
    "grap = [[(0, 1), (0, 3), (0, 4), (0, 5), (0, 7), (1, 5), (1, 6), (1, 7), (2, 5), (2, 6), (4, 5), (4, 6), (5, 7), (6, 7)], \n",
    "        [(0, 1), (1, 4), (1, 5), (1, 6), (1, 7), (2, 3), (2, 6), (2, 7), (3, 7), (4, 6)],\n",
    "        [(0, 1), (0, 3), (0, 4), (0, 5), (0, 7), (1, 3), (1, 4), (1, 6), (1, 7), (2, 3), (2, 6), (3, 6), (4, 6), (4, 7), (5, 6)]]\n",
    "\n",
    "print(type(grap[0][1]))\n",
    "gra = []\n",
    "\n",
    "with open('RandomGraphs.csv') as graphfile:\n",
    "    graphs = csv.reader(graphfile)\n",
    "    for row in graphs:\n",
    "        gra.append(row[0][1:-1])\n",
    "\n"
   ]
  }
 ],
 "metadata": {
  "kernelspec": {
   "display_name": "Python 3",
   "language": "python",
   "name": "python3"
  },
  "language_info": {
   "name": "python",
   "version": "3.10.4"
  },
  "orig_nbformat": 4
 },
 "nbformat": 4,
 "nbformat_minor": 2
}
