{
 "cells": [
  {
   "cell_type": "code",
   "execution_count": 64,
   "metadata": {},
   "outputs": [],
   "source": [
    "from networkx.generators.random_graphs import erdos_renyi_graph\n",
    "import csv\n",
    "import numpy as np"
   ]
  },
  {
   "cell_type": "code",
   "execution_count": 65,
   "metadata": {},
   "outputs": [],
   "source": [
    "n = 8\n",
    "p = 0.5\n"
   ]
  },
  {
   "cell_type": "code",
   "execution_count": 66,
   "metadata": {},
   "outputs": [],
   "source": [
    "graph = []\n",
    "\n",
    "for i in range(0, 100):\n",
    "    g = erdos_renyi_graph(n, p)\n",
    "    graph.append(g.edges)\n",
    "\n",
    "with open ('RandomGraphs.csv', 'w', newline='') as file:\n",
    "    writer = csv.writer(file)\n",
    "    for i in range(len(graph)):\n",
    "        writer.writerow([graph[i]])   "
   ]
  }
 ],
 "metadata": {
  "kernelspec": {
   "display_name": "Python 3",
   "language": "python",
   "name": "python3"
  },
  "language_info": {
   "name": "python",
   "version": "3.10.4"
  },
  "orig_nbformat": 4
 },
 "nbformat": 4,
 "nbformat_minor": 2
}
