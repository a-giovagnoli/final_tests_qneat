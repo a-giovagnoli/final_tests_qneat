{
 "cells": [
  {
   "cell_type": "code",
   "execution_count": 1,
   "metadata": {},
   "outputs": [],
   "source": [
    "import pennylane as qml\n",
    "from pennylane import numpy as np\n",
    "\n",
    "np.random.seed(42)"
   ]
  },
  {
   "cell_type": "code",
   "execution_count": 15,
   "metadata": {},
   "outputs": [],
   "source": [
    "n_wires = 8\n",
    "graph = [(0,1), (0,2), (1,2), (1,3), (1,4), (2,3), (3,5), (4,5), (4,6), (5,6), (5,7), (6,7)]\n",
    "\n",
    "# unitary operator U_B with parameter beta\n",
    "def U_B(beta):\n",
    "    for wire in range(n_wires):\n",
    "        qml.RX(2 * beta, wires=wire)\n",
    "\n",
    "\n",
    "# unitary operator U_C with parameter gamma\n",
    "def U_C(gamma):\n",
    "    for edge in graph:\n",
    "        wire1 = edge[0]\n",
    "        wire2 = edge[1]\n",
    "        qml.CNOT(wires=[wire1, wire2])\n",
    "        qml.RZ(gamma, wires=wire2)\n",
    "        qml.CNOT(wires=[wire1, wire2])"
   ]
  },
  {
   "cell_type": "code",
   "execution_count": 3,
   "metadata": {},
   "outputs": [],
   "source": [
    "def bitstring_to_int(bit_string_sample):\n",
    "    bit_string = \"\".join(str(bs) for bs in bit_string_sample)\n",
    "    return int(bit_string, base=2)"
   ]
  },
  {
   "cell_type": "code",
   "execution_count": 4,
   "metadata": {},
   "outputs": [],
   "source": [
    "dev = qml.device(\"default.qubit\", wires=n_wires, shots=1)"
   ]
  },
  {
   "cell_type": "code",
   "execution_count": 5,
   "metadata": {},
   "outputs": [],
   "source": [
    "@qml.qnode(dev)\n",
    "def circuit(gammas, betas, edge=None, n_layers=1):\n",
    "    # apply Hadamards to get the n qubit |+> state\n",
    "    for wire in range(n_wires):\n",
    "        qml.Hadamard(wires=wire)\n",
    "    # p instances of unitary operators\n",
    "    for i in range(n_layers):\n",
    "        U_C(gammas[i])\n",
    "        U_B(betas[i])\n",
    "    if edge is None:\n",
    "        # measurement phase\n",
    "        return qml.sample()\n",
    "    # during the optimization phase we are evaluating a term\n",
    "    # in the objective using expval\n",
    "    H = qml.PauliZ(edge[0]) @ qml.PauliZ(edge[1])\n",
    "    return qml.expval(H)"
   ]
  },
  {
   "cell_type": "code",
   "execution_count": 6,
   "metadata": {},
   "outputs": [],
   "source": [
    "def hamiltonian(config, graph):\n",
    "    \n",
    "    H = 0\n",
    "    for i, j in graph:\n",
    "        \n",
    "        zi = config[i]\n",
    "        zj = config[j]\n",
    "        H += 0.5 * (1 - zi*zj)\n",
    "    \n",
    "    return H"
   ]
  },
  {
   "cell_type": "code",
   "execution_count": 7,
   "metadata": {},
   "outputs": [
    {
     "name": "stdout",
     "output_type": "stream",
     "text": [
      "\n",
      "p=1\n",
      "Objective after step     5:  6.0000000\n",
      "Objective after step    10:  8.0000000\n",
      "Objective after step    15:  2.0000000\n",
      "Objective after step    20:  7.0000000\n",
      "Objective after step    25:  12.0000000\n",
      "Objective after step    30:  10.0000000\n",
      "average energy: 8.99\n",
      "Optimized (gamma, beta) vectors:\n",
      "[[-0.57419498]\n",
      " [-1.13981379]]\n",
      "Most frequently sampled bit string is: 1011001\n",
      "\n",
      "p=2\n",
      "Objective after step     5:  8.0000000\n",
      "Objective after step    10:  6.0000000\n",
      "Objective after step    15:  12.0000000\n",
      "Objective after step    20:  9.0000000\n",
      "Objective after step    25:  9.0000000\n",
      "Objective after step    30:  11.0000000\n",
      "average energy: 9.54\n",
      "Optimized (gamma, beta) vectors:\n",
      "[[-0.14412807  0.53606249]\n",
      " [ 0.52176739 -0.23004518]]\n",
      "Most frequently sampled bit string is: 1001001\n"
     ]
    }
   ],
   "source": [
    "def qaoa_maxcut(n_layers=1):\n",
    "    print(\"\\np={:d}\".format(n_layers))\n",
    "\n",
    "    # initialize the parameters near zero\n",
    "    init_params = 0.01 * np.random.rand(2, n_layers, requires_grad=True)\n",
    "\n",
    "    # minimize the negative of the objective function\n",
    "    def objective(params):\n",
    "        gammas = params[0]\n",
    "        betas = params[1]\n",
    "        neg_obj = 0\n",
    "        for edge in graph:\n",
    "            # objective for the MaxCut problem\n",
    "            neg_obj -= 0.5 * (1 - circuit(gammas, betas, edge=edge, n_layers=n_layers))\n",
    "        return neg_obj\n",
    "\n",
    "    # initialize optimizer: Adagrad works well empirically\n",
    "    opt = qml.AdagradOptimizer(stepsize=0.5)\n",
    "\n",
    "    # optimize parameters in objective\n",
    "    params = init_params\n",
    "    steps = 30\n",
    "    for i in range(steps):\n",
    "        params = opt.step(objective, params)\n",
    "        if (i + 1) % 5 == 0:\n",
    "            print(\"Objective after step {:5d}: {: .7f}\".format(i + 1, -objective(params)))\n",
    "\n",
    "    # sample measured bitstrings 100 times\n",
    "    bit_strings = []\n",
    "    n_samples = 100\n",
    "    for i in range(0, n_samples):\n",
    "        bit_strings.append(bitstring_to_int(circuit(params[0], params[1], edge=None, n_layers=n_layers)))\n",
    "\n",
    "    simple_measurements = []\n",
    "    for i in range(0, n_samples):\n",
    "        measurements = circuit(params[0], params[1], edge=None, n_layers=n_layers)\n",
    "        simple_measurements.append(measurements)\n",
    "        bit_strings.append(bitstring_to_int(measurements))\n",
    "        \n",
    "    samples_energies = []\n",
    "    for m in simple_measurements:\n",
    "        m = m.tolist()\n",
    "        m = [int(x) if int(x)==1 else -1 for x in m]\n",
    "        samples_energies.append(hamiltonian(m, graph))\n",
    "       \n",
    "    average_energy = sum(samples_energies)/len(samples_energies)\n",
    "    print('average energy:', average_energy)\n",
    "\n",
    "    # print optimal parameters and most frequently sampled bitstring\n",
    "    counts = np.bincount(np.array(bit_strings))\n",
    "    most_freq_bit_string = np.argmax(counts)\n",
    "    print(\"Optimized (gamma, beta) vectors:\\n{}\".format(params[:, :n_layers]))\n",
    "    print(\"Most frequently sampled bit string is: {:04b}\".format(most_freq_bit_string))\n",
    "\n",
    "    return -objective(params), bit_strings\n",
    "\n",
    "\n",
    "# perform qaoa on our graph with p=1,2 and\n",
    "# keep the bitstring sample lists\n",
    "bitstrings1 = qaoa_maxcut(n_layers=1)[1]\n",
    "bitstrings2 = qaoa_maxcut(n_layers=2)[1]\n",
    "\n",
    "#bitstring_1 = qaoa_maxcut(n_layers=10)[1]"
   ]
  },
  {
   "cell_type": "code",
   "execution_count": 8,
   "metadata": {},
   "outputs": [
    {
     "name": "stdout",
     "output_type": "stream",
     "text": [
      "\n",
      "p=4\n"
     ]
    },
    {
     "name": "stdout",
     "output_type": "stream",
     "text": [
      "Objective after step     5:  10.0000000\n",
      "Objective after step    10:  10.0000000\n",
      "Objective after step    15:  7.0000000\n",
      "Objective after step    20:  8.0000000\n",
      "Objective after step    25:  11.0000000\n",
      "Objective after step    30:  9.0000000\n",
      "average energy: 9.37\n",
      "Optimized (gamma, beta) vectors:\n",
      "[[-2.08552366  1.86530964  0.74742751  0.12741789]\n",
      " [-1.74464598  0.26295831 -0.06723413  1.40977286]]\n",
      "Most frequently sampled bit string is: 10111100\n"
     ]
    }
   ],
   "source": [
    "bitstring_4 = qaoa_maxcut(n_layers = 4)"
   ]
  },
  {
   "cell_type": "code",
   "execution_count": 9,
   "metadata": {},
   "outputs": [
    {
     "name": "stdout",
     "output_type": "stream",
     "text": [
      "\n",
      "p=10\n",
      "Objective after step     5:  7.0000000\n",
      "Objective after step    10:  8.0000000\n",
      "Objective after step    15:  6.0000000\n",
      "Objective after step    20:  8.0000000\n",
      "Objective after step    25:  8.0000000\n",
      "Objective after step    30:  13.0000000\n",
      "average energy: 7.9\n",
      "Optimized (gamma, beta) vectors:\n",
      "[[ 0.18461719 -0.5517497   1.10068752 -1.10629094 -1.2940881  -1.81337606\n",
      "  -0.60096275 -0.23573089  0.30085027 -0.62771566]\n",
      " [-0.21005528 -0.11541473 -0.1059826  -0.12856344  0.81998585 -0.56805769\n",
      "  -0.67260841  2.25891814  1.37887079 -1.11792429]]\n",
      "Most frequently sampled bit string is: 10100000\n"
     ]
    }
   ],
   "source": [
    "bitstring_10 = qaoa_maxcut(n_layers=10)"
   ]
  },
  {
   "cell_type": "code",
   "execution_count": 10,
   "metadata": {},
   "outputs": [
    {
     "name": "stdout",
     "output_type": "stream",
     "text": [
      "\n",
      "p=4\n",
      "Objective after step     5:  7.0000000\n",
      "Objective after step    10:  7.0000000\n",
      "Objective after step    15:  9.0000000\n",
      "Objective after step    20:  10.0000000\n",
      "Objective after step    25:  12.0000000\n",
      "Objective after step    30:  10.0000000\n",
      "average energy: 10.2\n",
      "Optimized (gamma, beta) vectors:\n",
      "[[ 0.2204381  -0.03398016  0.31138846  0.38423113]\n",
      " [ 1.37148908 -1.52903492  1.33970446 -0.33821546]]\n",
      "Most frequently sampled bit string is: 1001001\n"
     ]
    }
   ],
   "source": [
    "bitstring_4_1 = qaoa_maxcut(n_layers=4)"
   ]
  },
  {
   "cell_type": "code",
   "execution_count": 12,
   "metadata": {},
   "outputs": [
    {
     "name": "stdout",
     "output_type": "stream",
     "text": [
      "\n",
      "p=4\n",
      "Objective after step     5:  6.0000000\n",
      "Objective after step    10:  5.0000000\n",
      "Objective after step    15:  5.0000000\n",
      "Objective after step    20:  7.0000000\n",
      "Objective after step    25:  10.0000000\n",
      "Objective after step    30:  10.0000000\n",
      "average energy: 7.97\n",
      "Optimized (gamma, beta) vectors:\n",
      "[[-0.12559526 -0.55373576 -0.32343085  0.35095845]\n",
      " [ 0.34453939 -1.17754165  0.33476463 -0.42793725]]\n",
      "Most frequently sampled bit string is: 1010101\n"
     ]
    }
   ],
   "source": [
    "# Ladder\n",
    "bitstring_4_2 = qaoa_maxcut(n_layers=4)"
   ]
  },
  {
   "cell_type": "code",
   "execution_count": 14,
   "metadata": {},
   "outputs": [
    {
     "name": "stdout",
     "output_type": "stream",
     "text": [
      "\n",
      "p=4\n",
      "Objective after step     5:  6.0000000\n",
      "Objective after step    10:  6.0000000\n",
      "Objective after step    15:  6.0000000\n",
      "Objective after step    20:  9.0000000\n",
      "Objective after step    25:  3.0000000\n",
      "Objective after step    30:  8.0000000\n",
      "average energy: 7.17\n",
      "Optimized (gamma, beta) vectors:\n",
      "[[-0.85779981 -1.43385171  1.0828236  -0.6194914 ]\n",
      " [ 0.98138594 -1.42312912 -0.75459556 -0.71207399]]\n",
      "Most frequently sampled bit string is: 110110\n"
     ]
    }
   ],
   "source": [
    "#Barbell\n",
    "bitstring_4_3 = qaoa_maxcut(n_layers=4)"
   ]
  },
  {
   "cell_type": "code",
   "execution_count": 16,
   "metadata": {},
   "outputs": [
    {
     "name": "stdout",
     "output_type": "stream",
     "text": [
      "\n",
      "p=4\n",
      "Objective after step     5:  6.0000000\n",
      "Objective after step    10:  6.0000000\n",
      "Objective after step    15:  5.0000000\n",
      "Objective after step    20:  8.0000000\n",
      "Objective after step    25:  7.0000000\n",
      "Objective after step    30:  5.0000000\n",
      "average energy: 6.34\n",
      "Optimized (gamma, beta) vectors:\n",
      "[[ 1.37203897 -1.17075919 -2.17614946 -1.91137934]\n",
      " [-0.88349023  0.1636271   0.71956344 -0.11144558]]\n",
      "Most frequently sampled bit string is: 1011100\n"
     ]
    }
   ],
   "source": [
    "#Caveman\n",
    "bitstring_10_1 = qaoa_maxcut(n_layers=4)"
   ]
  },
  {
   "cell_type": "code",
   "execution_count": null,
   "metadata": {},
   "outputs": [],
   "source": [
    "bitstring_10_2 = qaoa_maxcut(n_layers=10)"
   ]
  },
  {
   "cell_type": "code",
   "execution_count": null,
   "metadata": {},
   "outputs": [],
   "source": [
    "bitstring_10_3 = qaoa_maxcut(n_layers=10)"
   ]
  }
 ],
 "metadata": {
  "kernelspec": {
   "display_name": "Python 3",
   "language": "python",
   "name": "python3"
  },
  "language_info": {
   "codemirror_mode": {
    "name": "ipython",
    "version": 3
   },
   "file_extension": ".py",
   "mimetype": "text/x-python",
   "name": "python",
   "nbconvert_exporter": "python",
   "pygments_lexer": "ipython3",
   "version": "3.10.4"
  },
  "orig_nbformat": 4
 },
 "nbformat": 4,
 "nbformat_minor": 2
}
